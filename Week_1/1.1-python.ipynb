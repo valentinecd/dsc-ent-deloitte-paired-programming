{
 "cells": [
  {
   "cell_type": "markdown",
   "metadata": {},
   "source": [
    "# Python Pre-Work Review - Loops and Functions\n",
    "\n",
    "Feel like you missed what pair programming is supposed to be all about? [Check out the writeup in the Recipe for Success document](https://docs.google.com/document/d/1J2VgF-40k8aO44epy-Rlu21jeV53k7VNJKXRR3y0P_M/edit#heading=h.hsv76gt73puu)"
   ]
  },
  {
   "cell_type": "markdown",
   "metadata": {},
   "source": [
    "\n",
    "## Scenario\n",
    "\n",
    "![cat pushing a shopping cart](images/cat_shopping_cart.jpg)\n",
    "\n",
    "Who has ever gotten to the cash register at Costco, or Whole Foods, or Target, then seen the total and asked, _\"How did I spend that much?!\"_ \n",
    "\n",
    "We have a grocery list of items and prices, but we do not have infinite money (unfortunately), so let's use Python help us manage our shopping and expenses."
   ]
  },
  {
   "cell_type": "markdown",
   "metadata": {},
   "source": [
    "## For Loops:\n",
    "\n",
    "Below, we have a list of items, and a separate list of costs. Let's build up to where we can write a loop to print each item, its cost, and the total of our grocery list."
   ]
  },
  {
   "cell_type": "code",
   "execution_count": 1,
   "metadata": {},
   "outputs": [],
   "source": [
    "# Run this cell without changes\n",
    "# Here is our grocery list\n",
    "items = ['cheese', 'whole milk', 'kefir', 'tofu four-pack', 'kale', 'oranges', \n",
    "         'ham', \"ben & jerry's\"]\n",
    "\n",
    "# Here is our cost list\n",
    "cost = [2.79, 3.42, 4.50, 12.00, 2.75, 3.64, 25.00, 5.29]"
   ]
  },
  {
   "cell_type": "markdown",
   "metadata": {},
   "source": [
    "Let's make that a little nicer looking. \n",
    "\n",
    "### 1) Create a `for` loop that prints each item in the list with \"I need to buy: \" + item:"
   ]
  },
  {
   "cell_type": "code",
   "execution_count": 3,
   "metadata": {},
   "outputs": [
    {
     "name": "stdout",
     "output_type": "stream",
     "text": [
      "I need to buy: cheese\n",
      "I need to buy: whole milk\n",
      "I need to buy: kefir\n",
      "I need to buy: tofu four-pack\n",
      "I need to buy: kale\n",
      "I need to buy: oranges\n",
      "I need to buy: ham\n",
      "I need to buy: ben & jerry's\n"
     ]
    }
   ],
   "source": [
    "# Write your for loop\n",
    "for item in items:\n",
    "    print(\"I need to buy: \"+item)"
   ]
  },
  {
   "cell_type": "markdown",
   "metadata": {},
   "source": [
    "What if we think it will be easier to work with a dictionary?\n",
    "\n",
    "### 2) Convert those two lists to a single dictionary:\n",
    "\n",
    "[Hint](https://appdividend.com/2022/03/10/python-zip-dictionary/)"
   ]
  },
  {
   "cell_type": "code",
   "execution_count": 5,
   "metadata": {},
   "outputs": [],
   "source": [
    "# Replace None with appropriate code to create your dictionary\n",
    "grocery_dict_keys = items\n",
    "grocery_dict_values = cost\n",
    "\n",
    "grocery_dict = dict(zip(grocery_dict_keys, grocery_dict_values))"
   ]
  },
  {
   "cell_type": "code",
   "execution_count": 7,
   "metadata": {
    "scrolled": true
   },
   "outputs": [
    {
     "data": {
      "text/plain": [
       "{'cheese': 2.79,\n",
       " 'whole milk': 3.42,\n",
       " 'kefir': 4.5,\n",
       " 'tofu four-pack': 12.0,\n",
       " 'kale': 2.75,\n",
       " 'oranges': 3.64,\n",
       " 'ham': 25.0,\n",
       " \"ben & jerry's\": 5.29}"
      ]
     },
     "execution_count": 7,
     "metadata": {},
     "output_type": "execute_result"
    }
   ],
   "source": [
    "# Check your work\n",
    "grocery_dict"
   ]
  },
  {
   "cell_type": "markdown",
   "metadata": {},
   "source": [
    "### 3) Sum the total grocery bill for these items:\n",
    "\n",
    "(use the dictionary's `values`, not the cost list from before!)"
   ]
  },
  {
   "cell_type": "code",
   "execution_count": 9,
   "metadata": {
    "scrolled": true
   },
   "outputs": [
    {
     "data": {
      "text/plain": [
       "59.39"
      ]
     },
     "execution_count": 9,
     "metadata": {},
     "output_type": "execute_result"
    }
   ],
   "source": [
    "# Calculate your sum\n",
    "sum(grocery_dict_values)"
   ]
  },
  {
   "cell_type": "markdown",
   "metadata": {},
   "source": [
    "Gah! What if we're trying to be frugal?\n",
    "\n",
    "One way to do that would be to not buy any item that's more expensive than $10.\n",
    "\n",
    "### 4) Edit your loop so that it only calculates the sum for items that are less than $10:\n",
    "\n",
    "Hint: `.items()` will create two variables from a dictionary, one with the keys and one with the values. You can use `.items()`, conditionals, and a for loop to only add items that are cheaper then $10 to our total!"
   ]
  },
  {
   "cell_type": "code",
   "execution_count": 11,
   "metadata": {
    "scrolled": true
   },
   "outputs": [
    {
     "name": "stdout",
     "output_type": "stream",
     "text": [
      "cheese 2.79\n",
      "whole milk 3.42\n",
      "kefir 4.5\n",
      "kale 2.75\n",
      "oranges 3.64\n",
      "ben & jerry's 5.29\n"
     ]
    }
   ],
   "source": [
    "# Code here to only add items to our total if they're <$10\n",
    "sum = 0\n",
    "for key,value in grocery_dict.items():\n",
    "    if value <10:\n",
    "        sum = sum+value\n",
    "        print(key,value)"
   ]
  },
  {
   "cell_type": "code",
   "execution_count": 13,
   "metadata": {},
   "outputs": [
    {
     "data": {
      "text/plain": [
       "22.39"
      ]
     },
     "execution_count": 13,
     "metadata": {},
     "output_type": "execute_result"
    }
   ],
   "source": [
    "# Check your work\n",
    "sum"
   ]
  },
  {
   "cell_type": "markdown",
   "metadata": {},
   "source": [
    "## Functions:\n",
    "\n",
    "Just a note - it's always best practice to follow [PEP-8](https://www.python.org/dev/peps/pep-0008/) standards when writing Python code. The [standard for function names](https://www.python.org/dev/peps/pep-0008/#function-and-variable-names) is that they are lowercase, separated by underscores - same as variable names."
   ]
  },
  {
   "cell_type": "markdown",
   "metadata": {},
   "source": [
    "### Quiz question!  `print` vs `return` ?\n",
    "\n",
    "Can you describe the difference between `print` and `return` as a function output? \n",
    "\n",
    "- \n"
   ]
  },
  {
   "cell_type": "markdown",
   "metadata": {},
   "source": [
    "Back to our shopping list:\n",
    "\n",
    "### 5) Adapt your shopping list's for loop into a function that takes in a dictionary, where the key is the name of the item and the value is its cost, and only adds items if they are less than $10:\n",
    "\n",
    "It should return the total cost without items that cost more than $10."
   ]
  },
  {
   "cell_type": "code",
   "execution_count": 25,
   "metadata": {},
   "outputs": [
    {
     "name": "stdout",
     "output_type": "stream",
     "text": [
      "22.39\n"
     ]
    }
   ],
   "source": [
    "# You may want to paste your previous for loop here\n",
    "def add_under_10(dict):\n",
    "    sum = 0\n",
    "    for key,value in dict.items():\n",
    "        if value <10:\n",
    "            sum = sum + value\n",
    "    return sum\n",
    "\n",
    "print(add_under_10(grocery_dict))"
   ]
  },
  {
   "cell_type": "code",
   "execution_count": 43,
   "metadata": {},
   "outputs": [],
   "source": [
    "# Replace pass with the appropriate code\n",
    "def calc_frugal_total(dictionary):\n",
    "    '''\n",
    "    Returns a frugal grocery list sum, that only includes items that cost less\n",
    "    than $10\n",
    "    \n",
    "    Input: dictionary (expects key is item name, value is item cost)\n",
    "    Output: sum (float)\n",
    "    '''\n",
    "    sum = 0\n",
    "    for key, value in dictionary.items():\n",
    "        if value <10:\n",
    "            sum = sum + value\n",
    "    return sum"
   ]
  },
  {
   "cell_type": "code",
   "execution_count": 45,
   "metadata": {},
   "outputs": [
    {
     "data": {
      "text/plain": [
       "22.39"
      ]
     },
     "execution_count": 45,
     "metadata": {},
     "output_type": "execute_result"
    }
   ],
   "source": [
    "# Run this cell without changes to check your work\n",
    "calc_frugal_total(grocery_dict)"
   ]
  },
  {
   "cell_type": "markdown",
   "metadata": {},
   "source": [
    "## Nested Dictionaries\n",
    "\n",
    "Here is a more robust shopping list of nested dictionaries:"
   ]
  },
  {
   "cell_type": "code",
   "execution_count": 49,
   "metadata": {},
   "outputs": [],
   "source": [
    "# Run this cell without changes\n",
    "shopping_dict = {'Groceries': {\"ben & jerry's\": 5.29, 'cheese': 2.79, \n",
    "                               'ham': 25.0, 'kale': 2.75, 'kefir': 4.5, \n",
    "                               'oranges': 3.64, 'tofu four-pack': 12.0, \n",
    "                               'whole milk': 3.42},\n",
    "                 'House Supplies': {'toilet paper pack': 16.50, \n",
    "                                    'clorox spray': 6.43, 'kleenex': 2.50, },\n",
    "                 'Pet Supplies': {'fancy grain-free kibble': 65.25, \n",
    "                                  'squeaky toy': 4.50, 'treats': 8.45}}"
   ]
  },
  {
   "cell_type": "markdown",
   "metadata": {},
   "source": [
    "Nested dictionaries call for nested for loops! \n",
    "\n",
    "### 6) Write a set of nested for loops that create a total grocery list of the items without the categories (for example: ham, clorox spray, squeaky toy, etc.):\n",
    "\n",
    "This would let us have just one list to take to the store and find what we need!"
   ]
  },
  {
   "cell_type": "code",
   "execution_count": 67,
   "metadata": {},
   "outputs": [],
   "source": [
    "# Code to write your nested loops\n",
    "grocery_list = []\n",
    "for key, value in shopping_dict.items():\n",
    "    for item in shopping_dict[key]:\n",
    "        grocery_list.append(item)"
   ]
  },
  {
   "cell_type": "code",
   "execution_count": 69,
   "metadata": {},
   "outputs": [
    {
     "name": "stdout",
     "output_type": "stream",
     "text": [
      "[\"ben & jerry's\", 'cheese', 'ham', 'kale', 'kefir', 'oranges', 'tofu four-pack', 'whole milk', 'toilet paper pack', 'clorox spray', 'kleenex', 'fancy grain-free kibble', 'squeaky toy', 'treats']\n"
     ]
    }
   ],
   "source": [
    "# Check your work\n",
    "print(grocery_list)"
   ]
  },
  {
   "cell_type": "markdown",
   "metadata": {},
   "source": [
    "### 7) Turn your nested loops into a function that, when given nested dictionaries, returns a list of each item as our grocery list to take with us to the store. It should also print our expected total, so we know how much we expect to spend.\n",
    "\n",
    "Use [this link](https://stackoverflow.com/questions/45310254/fixed-digits-after-decimal-with-f-strings) for help in formatting the total to two decimal places using an f-string - not required, but it'll print out nicer!"
   ]
  },
  {
   "cell_type": "code",
   "execution_count": 109,
   "metadata": {},
   "outputs": [],
   "source": [
    "# Replace pass with appropriate code\n",
    "def write_grocery_list(nested_dict):\n",
    "    grocery_list = []\n",
    "    total_sum = 0\n",
    "    for key, value in shopping_dict.items():\n",
    "        for key1, value1 in shopping_dict[key].items():\n",
    "            grocery_list.append(key1)\n",
    "            total_sum = total_sum + value1   \n",
    "    print(f\"Grocery List Total: ${total_sum:.2f}\")\n",
    "    return grocery_list"
   ]
  },
  {
   "cell_type": "code",
   "execution_count": 111,
   "metadata": {},
   "outputs": [
    {
     "name": "stdout",
     "output_type": "stream",
     "text": [
      "Grocery List Total: $163.02\n"
     ]
    },
    {
     "data": {
      "text/plain": [
       "[\"ben & jerry's\",\n",
       " 'cheese',\n",
       " 'ham',\n",
       " 'kale',\n",
       " 'kefir',\n",
       " 'oranges',\n",
       " 'tofu four-pack',\n",
       " 'whole milk',\n",
       " 'toilet paper pack',\n",
       " 'clorox spray',\n",
       " 'kleenex',\n",
       " 'fancy grain-free kibble',\n",
       " 'squeaky toy',\n",
       " 'treats']"
      ]
     },
     "execution_count": 111,
     "metadata": {},
     "output_type": "execute_result"
    }
   ],
   "source": [
    "# Run this cell without changes to check your work\n",
    "write_grocery_list(shopping_dict)"
   ]
  },
  {
   "cell_type": "markdown",
   "metadata": {},
   "source": [
    "-----\n",
    "\n",
    "## Level Up:\n",
    "\n",
    "Adapt your grocery function to do the following:\n",
    "\n",
    "- flag expensive items that cost more than $20, and do not add them to your list\n",
    "\n",
    "- block items that will push the total cost above $50\n",
    "\n",
    "- print out the average cost per item on your list\n",
    "\n",
    "It should still take in a nested dictionary, and return your grocery list.\n",
    "\n",
    "**Extra bonus points:** add a [docstring](https://www.python.org/dev/peps/pep-0257/)! \n",
    "\n",
    "You can see an example of a docstring up above, where I used triple quotes (''') to write a multi-line string directly under where I defined my `calc_frugal_total` function. That multi-line string is a docstring, and you should get in the habit of using docstrings to describe expected behavior, as well as expected inputs and outputs, for your functions. Best part - after you've defined a function, you can call that docstring by running `help()` around your function, or by clicking into the parentheses after your function and clicking SHIFT+TAB in a juptyer notebook. Test it out!"
   ]
  },
  {
   "cell_type": "code",
   "execution_count": 157,
   "metadata": {},
   "outputs": [],
   "source": [
    "# Code your leveled-up function here\n",
    "def write_grocery_list(nested_dict):\n",
    "    grocery_list = []\n",
    "    total_sum = 0\n",
    "    for key, value in shopping_dict.items():\n",
    "        for key1, value1 in shopping_dict[key].items():\n",
    "            if value1 < 20 and (total_sum + value1 < 50):\n",
    "                total_sum = total_sum + value1\n",
    "                grocery_list.append(key1)\n",
    "                average = total_sum/(len(grocery_list))\n",
    "    print(f\"Grocery List Total: ${total_sum:.2f}\")\n",
    "    print(f\"Average Grocery Item Cost: ${average:.2f}\")\n",
    "    return grocery_list"
   ]
  },
  {
   "cell_type": "code",
   "execution_count": 159,
   "metadata": {},
   "outputs": [
    {
     "name": "stdout",
     "output_type": "stream",
     "text": [
      "Grocery List Total: $47.82\n",
      "Average Grocery Item Cost: $4.78\n"
     ]
    },
    {
     "data": {
      "text/plain": [
       "[\"ben & jerry's\",\n",
       " 'cheese',\n",
       " 'kale',\n",
       " 'kefir',\n",
       " 'oranges',\n",
       " 'tofu four-pack',\n",
       " 'whole milk',\n",
       " 'clorox spray',\n",
       " 'kleenex',\n",
       " 'squeaky toy']"
      ]
     },
     "execution_count": 159,
     "metadata": {},
     "output_type": "execute_result"
    }
   ],
   "source": [
    "# Check your work\n",
    "write_grocery_list(shopping_dict)"
   ]
  },
  {
   "cell_type": "code",
   "execution_count": null,
   "metadata": {},
   "outputs": [],
   "source": []
  }
 ],
 "metadata": {
  "kernelspec": {
   "display_name": "Python 3",
   "language": "python",
   "name": "python3"
  },
  "language_info": {
   "codemirror_mode": {
    "name": "ipython",
    "version": 3
   },
   "file_extension": ".py",
   "mimetype": "text/x-python",
   "name": "python",
   "nbconvert_exporter": "python",
   "pygments_lexer": "ipython3",
   "version": "3.8.5"
  }
 },
 "nbformat": 4,
 "nbformat_minor": 4
}
